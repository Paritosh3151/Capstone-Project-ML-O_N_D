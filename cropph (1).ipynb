{
 "cells": [
  {
   "cell_type": "code",
   "execution_count": 1,
   "id": "6f3197f7",
   "metadata": {},
   "outputs": [],
   "source": [
    "import pandas as pd\n",
    "import matplotlib.pyplot as plt\n",
    "import seaborn as sns\n",
    "import numpy as np\n",
    "import warnings\n",
    "warnings.filterwarnings('ignore')"
   ]
  },
  {
   "cell_type": "code",
   "execution_count": 2,
   "id": "68b929a6",
   "metadata": {},
   "outputs": [
    {
     "data": {
      "text/html": [
       "<div>\n",
       "<style scoped>\n",
       "    .dataframe tbody tr th:only-of-type {\n",
       "        vertical-align: middle;\n",
       "    }\n",
       "\n",
       "    .dataframe tbody tr th {\n",
       "        vertical-align: top;\n",
       "    }\n",
       "\n",
       "    .dataframe thead th {\n",
       "        text-align: right;\n",
       "    }\n",
       "</style>\n",
       "<table border=\"1\" class=\"dataframe\">\n",
       "  <thead>\n",
       "    <tr style=\"text-align: right;\">\n",
       "      <th></th>\n",
       "      <th>Crop</th>\n",
       "      <th>Ph</th>\n",
       "    </tr>\n",
       "  </thead>\n",
       "  <tbody>\n",
       "    <tr>\n",
       "      <th>0</th>\n",
       "      <td>Bajra</td>\n",
       "      <td>3.0</td>\n",
       "    </tr>\n",
       "    <tr>\n",
       "      <th>1</th>\n",
       "      <td>Banana</td>\n",
       "      <td>6.5</td>\n",
       "    </tr>\n",
       "    <tr>\n",
       "      <th>2</th>\n",
       "      <td>Barley</td>\n",
       "      <td>3.0</td>\n",
       "    </tr>\n",
       "    <tr>\n",
       "      <th>3</th>\n",
       "      <td>Bean</td>\n",
       "      <td>5.5</td>\n",
       "    </tr>\n",
       "    <tr>\n",
       "      <th>4</th>\n",
       "      <td>Black pepper</td>\n",
       "      <td>6.4</td>\n",
       "    </tr>\n",
       "  </tbody>\n",
       "</table>\n",
       "</div>"
      ],
      "text/plain": [
       "           Crop   Ph\n",
       "0         Bajra  3.0\n",
       "1        Banana  6.5\n",
       "2        Barley  3.0\n",
       "3          Bean  5.5\n",
       "4  Black pepper  6.4"
      ]
     },
     "execution_count": 2,
     "metadata": {},
     "output_type": "execute_result"
    }
   ],
   "source": [
    "cropph_df = pd.read_csv(r\"P:\\Paritosh_personal\\data science\\data science\\Capstone Project ML-O_N_D\\cropph.csv\")\n",
    "cropph_df.head()"
   ]
  },
  {
   "cell_type": "markdown",
   "id": "f83cd14c",
   "metadata": {},
   "source": [
    "# Data Exploration"
   ]
  },
  {
   "cell_type": "code",
   "execution_count": 3,
   "id": "48c1abf1",
   "metadata": {},
   "outputs": [
    {
     "name": "stdout",
     "output_type": "stream",
     "text": [
      "<class 'pandas.core.frame.DataFrame'>\n",
      "RangeIndex: 58 entries, 0 to 57\n",
      "Data columns (total 2 columns):\n",
      " #   Column  Non-Null Count  Dtype  \n",
      "---  ------  --------------  -----  \n",
      " 0   Crop    58 non-null     object \n",
      " 1   Ph      58 non-null     float64\n",
      "dtypes: float64(1), object(1)\n",
      "memory usage: 1.0+ KB\n"
     ]
    }
   ],
   "source": [
    "cropph_df.info()"
   ]
  },
  {
   "cell_type": "code",
   "execution_count": 4,
   "id": "f42a48ed",
   "metadata": {},
   "outputs": [
    {
     "data": {
      "text/html": [
       "<div>\n",
       "<style scoped>\n",
       "    .dataframe tbody tr th:only-of-type {\n",
       "        vertical-align: middle;\n",
       "    }\n",
       "\n",
       "    .dataframe tbody tr th {\n",
       "        vertical-align: top;\n",
       "    }\n",
       "\n",
       "    .dataframe thead th {\n",
       "        text-align: right;\n",
       "    }\n",
       "</style>\n",
       "<table border=\"1\" class=\"dataframe\">\n",
       "  <thead>\n",
       "    <tr style=\"text-align: right;\">\n",
       "      <th></th>\n",
       "      <th>Ph</th>\n",
       "    </tr>\n",
       "  </thead>\n",
       "  <tbody>\n",
       "    <tr>\n",
       "      <th>count</th>\n",
       "      <td>58.000000</td>\n",
       "    </tr>\n",
       "    <tr>\n",
       "      <th>mean</th>\n",
       "      <td>5.727759</td>\n",
       "    </tr>\n",
       "    <tr>\n",
       "      <th>std</th>\n",
       "      <td>1.014469</td>\n",
       "    </tr>\n",
       "    <tr>\n",
       "      <th>min</th>\n",
       "      <td>3.000000</td>\n",
       "    </tr>\n",
       "    <tr>\n",
       "      <th>25%</th>\n",
       "      <td>5.000000</td>\n",
       "    </tr>\n",
       "    <tr>\n",
       "      <th>50%</th>\n",
       "      <td>5.550000</td>\n",
       "    </tr>\n",
       "    <tr>\n",
       "      <th>75%</th>\n",
       "      <td>6.375000</td>\n",
       "    </tr>\n",
       "    <tr>\n",
       "      <th>max</th>\n",
       "      <td>8.000000</td>\n",
       "    </tr>\n",
       "  </tbody>\n",
       "</table>\n",
       "</div>"
      ],
      "text/plain": [
       "              Ph\n",
       "count  58.000000\n",
       "mean    5.727759\n",
       "std     1.014469\n",
       "min     3.000000\n",
       "25%     5.000000\n",
       "50%     5.550000\n",
       "75%     6.375000\n",
       "max     8.000000"
      ]
     },
     "execution_count": 4,
     "metadata": {},
     "output_type": "execute_result"
    }
   ],
   "source": [
    "cropph_df.describe()"
   ]
  },
  {
   "cell_type": "code",
   "execution_count": 5,
   "id": "665d9593",
   "metadata": {},
   "outputs": [
    {
     "data": {
      "text/plain": [
       "Crop    0\n",
       "Ph      0\n",
       "dtype: int64"
      ]
     },
     "execution_count": 5,
     "metadata": {},
     "output_type": "execute_result"
    }
   ],
   "source": [
    "cropph_df.isnull().sum()"
   ]
  },
  {
   "cell_type": "code",
   "execution_count": 6,
   "id": "e0fe22e2",
   "metadata": {},
   "outputs": [
    {
     "data": {
      "text/plain": [
       "58"
      ]
     },
     "execution_count": 6,
     "metadata": {},
     "output_type": "execute_result"
    }
   ],
   "source": [
    "cropph_df.shape[0]"
   ]
  },
  {
   "cell_type": "code",
   "execution_count": 7,
   "id": "6a299436",
   "metadata": {},
   "outputs": [
    {
     "data": {
      "text/plain": [
       "0     3.00\n",
       "1     6.50\n",
       "2     3.00\n",
       "3     5.50\n",
       "4     6.40\n",
       "5     5.00\n",
       "6     6.50\n",
       "7     5.50\n",
       "8     5.50\n",
       "9     4.50\n",
       "10    5.50\n",
       "11    5.00\n",
       "12    6.00\n",
       "13    5.50\n",
       "14    5.50\n",
       "15    8.00\n",
       "16    7.00\n",
       "17    6.00\n",
       "18    6.40\n",
       "19    6.10\n",
       "20    5.00\n",
       "21    6.10\n",
       "22    6.50\n",
       "23    5.00\n",
       "24    5.00\n",
       "25    5.00\n",
       "26    6.00\n",
       "27    7.40\n",
       "28    7.80\n",
       "29    6.10\n",
       "30    7.00\n",
       "31    5.00\n",
       "32    5.50\n",
       "33    4.50\n",
       "34    6.30\n",
       "35    4.01\n",
       "36    7.30\n",
       "37    6.00\n",
       "38    6.90\n",
       "39    6.10\n",
       "40    5.80\n",
       "41    6.30\n",
       "42    7.30\n",
       "43    5.10\n",
       "44    5.00\n",
       "45    5.00\n",
       "46    5.80\n",
       "47    5.50\n",
       "48    6.90\n",
       "49    5.00\n",
       "50    6.10\n",
       "51    5.60\n",
       "52    5.10\n",
       "53    5.00\n",
       "54    4.50\n",
       "55    6.80\n",
       "56    5.50\n",
       "57    5.00\n",
       "Name: Ph, dtype: float64"
      ]
     },
     "execution_count": 7,
     "metadata": {},
     "output_type": "execute_result"
    }
   ],
   "source": [
    "cropph_df['Ph']"
   ]
  },
  {
   "cell_type": "code",
   "execution_count": 8,
   "id": "44615875",
   "metadata": {},
   "outputs": [
    {
     "data": {
      "text/plain": [
       "Crop     object\n",
       "Ph      float64\n",
       "dtype: object"
      ]
     },
     "execution_count": 8,
     "metadata": {},
     "output_type": "execute_result"
    }
   ],
   "source": [
    "cropph_df.dtypes"
   ]
  },
  {
   "cell_type": "code",
   "execution_count": 9,
   "id": "2db5c3b8",
   "metadata": {},
   "outputs": [
    {
     "data": {
      "text/plain": [
       "<AxesSubplot:title={'center':'scatter plot for student Crop vs Ph'}, xlabel='Crop', ylabel='Ph'>"
      ]
     },
     "execution_count": 9,
     "metadata": {},
     "output_type": "execute_result"
    },
    {
     "data": {
      "image/png": "[encoded data removed]",
      "text/plain": [
       "<Figure size 640x480 with 1 Axes>"
      ]
     },
     "metadata": {},
     "output_type": "display_data"
    }
   ],
   "source": [
    "cropph_df.plot.scatter(x='Crop',y='Ph',title='scatter plot for student Crop vs Ph')"
   ]
  },
  {
   "cell_type": "code",
   "execution_count": 10,
   "id": "ee952429",
   "metadata": {},
   "outputs": [
    {
     "name": "stdout",
     "output_type": "stream",
     "text": [
      "     Ph\n",
      "Ph  1.0\n"
     ]
    }
   ],
   "source": [
    "print(cropph_df.corr())"
   ]
  },
  {
   "cell_type": "code",
   "execution_count": 11,
   "id": "9175dcbe",
   "metadata": {},
   "outputs": [],
   "source": [
    "from sklearn.model_selection import train_test_split"
   ]
  },
  {
   "cell_type": "code",
   "execution_count": 12,
   "id": "e2a0c1fe",
   "metadata": {},
   "outputs": [],
   "source": [
    "y=cropph_df['Ph'].values.reshape(-1,1)"
   ]
  },
  {
   "cell_type": "code",
   "execution_count": 13,
   "id": "cdb19e22",
   "metadata": {},
   "outputs": [
    {
     "data": {
      "text/plain": [
       "array([[3.  ],\n",
       "       [6.5 ],\n",
       "       [3.  ],\n",
       "       [5.5 ],\n",
       "       [6.4 ],\n",
       "       [5.  ],\n",
       "       [6.5 ],\n",
       "       [5.5 ],\n",
       "       [5.5 ],\n",
       "       [4.5 ],\n",
       "       [5.5 ],\n",
       "       [5.  ],\n",
       "       [6.  ],\n",
       "       [5.5 ],\n",
       "       [5.5 ],\n",
       "       [8.  ],\n",
       "       [7.  ],\n",
       "       [6.  ],\n",
       "       [6.4 ],\n",
       "       [6.1 ],\n",
       "       [5.  ],\n",
       "       [6.1 ],\n",
       "       [6.5 ],\n",
       "       [5.  ],\n",
       "       [5.  ],\n",
       "       [5.  ],\n",
       "       [6.  ],\n",
       "       [7.4 ],\n",
       "       [7.8 ],\n",
       "       [6.1 ],\n",
       "       [7.  ],\n",
       "       [5.  ],\n",
       "       [5.5 ],\n",
       "       [4.5 ],\n",
       "       [6.3 ],\n",
       "       [4.01],\n",
       "       [7.3 ],\n",
       "       [6.  ],\n",
       "       [6.9 ],\n",
       "       [6.1 ],\n",
       "       [5.8 ],\n",
       "       [6.3 ],\n",
       "       [7.3 ],\n",
       "       [5.1 ],\n",
       "       [5.  ],\n",
       "       [5.  ],\n",
       "       [5.8 ],\n",
       "       [5.5 ],\n",
       "       [6.9 ],\n",
       "       [5.  ],\n",
       "       [6.1 ],\n",
       "       [5.6 ],\n",
       "       [5.1 ],\n",
       "       [5.  ],\n",
       "       [4.5 ],\n",
       "       [6.8 ],\n",
       "       [5.5 ],\n",
       "       [5.  ]])"
      ]
     },
     "execution_count": 13,
     "metadata": {},
     "output_type": "execute_result"
    }
   ],
   "source": [
    "y"
   ]
  },
  {
   "cell_type": "code",
   "execution_count": 14,
   "id": "8edab1e5",
   "metadata": {},
   "outputs": [],
   "source": [
    "x=cropph_df['Crop'].values.reshape(-1,1)"
   ]
  },
  {
   "cell_type": "code",
   "execution_count": 15,
   "id": "800f66da",
   "metadata": {},
   "outputs": [
    {
     "data": {
      "text/plain": [
       "array([['Bajra'],\n",
       "       ['Banana'],\n",
       "       ['Barley'],\n",
       "       ['Bean'],\n",
       "       ['Black pepper'],\n",
       "       ['Blackgram'],\n",
       "       ['Bottle Gourd'],\n",
       "       ['Brinjal'],\n",
       "       ['Cabbage'],\n",
       "       ['Cardamom'],\n",
       "       ['Carrot'],\n",
       "       ['Castor seed'],\n",
       "       ['Cauliflower'],\n",
       "       ['Chillies'],\n",
       "       ['Colocosia'],\n",
       "       ['Coriander'],\n",
       "       ['Cotton'],\n",
       "       ['Cowpea'],\n",
       "       ['Drum Stick'],\n",
       "       ['Garlic'],\n",
       "       ['Ginger'],\n",
       "       ['Gram'],\n",
       "       ['Grapes'],\n",
       "       ['Groundnut'],\n",
       "       ['Guar seed'],\n",
       "       ['Horse-gram'],\n",
       "       ['Jowar'],\n",
       "       ['Jute'],\n",
       "       ['Khesari'],\n",
       "       ['Lady Finger'],\n",
       "       ['Lentil'],\n",
       "       ['Linseed'],\n",
       "       ['Maize'],\n",
       "       ['Mesta'],\n",
       "       ['Moong(Green Gram)'],\n",
       "       ['Moth'],\n",
       "       ['Onion'],\n",
       "       ['Orange'],\n",
       "       ['Papaya'],\n",
       "       ['Peas & beans (Pulses)'],\n",
       "       ['Pineapple'],\n",
       "       ['Potato'],\n",
       "       ['Raddish'],\n",
       "       ['Ragi'],\n",
       "       ['Rice'],\n",
       "       ['Safflower'],\n",
       "       ['Sannhamp'],\n",
       "       ['Sesamum'],\n",
       "       ['Soyabean'],\n",
       "       ['Sugarcane'],\n",
       "       ['Sunflower'],\n",
       "       ['Sweet potato'],\n",
       "       ['Tapioca'],\n",
       "       ['Tomato'],\n",
       "       ['Turmeric'],\n",
       "       ['Urad'],\n",
       "       ['Varagu'],\n",
       "       ['Wheat']], dtype=object)"
      ]
     },
     "execution_count": 15,
     "metadata": {},
     "output_type": "execute_result"
    }
   ],
   "source": [
    "x"
   ]
  },
  {
   "cell_type": "code",
   "execution_count": 16,
   "id": "147f0508",
   "metadata": {},
   "outputs": [],
   "source": [
    "x_train,x_test,y_train,y_test=train_test_split(x,y,test_size=0.3,random_state=42)"
   ]
  },
  {
   "cell_type": "code",
   "execution_count": 17,
   "id": "6329442c",
   "metadata": {},
   "outputs": [
    {
     "data": {
      "text/plain": [
       "(40, 1)"
      ]
     },
     "execution_count": 17,
     "metadata": {},
     "output_type": "execute_result"
    }
   ],
   "source": [
    "x_train.shape"
   ]
  },
  {
   "cell_type": "code",
   "execution_count": 18,
   "id": "89c39cbe",
   "metadata": {},
   "outputs": [
    {
     "data": {
      "text/plain": [
       "(18, 1)"
      ]
     },
     "execution_count": 18,
     "metadata": {},
     "output_type": "execute_result"
    }
   ],
   "source": [
    "x_test.shape"
   ]
  },
  {
   "cell_type": "code",
   "execution_count": 19,
   "id": "bbf964bb",
   "metadata": {},
   "outputs": [
    {
     "data": {
      "text/plain": [
       "(40, 1)"
      ]
     },
     "execution_count": 19,
     "metadata": {},
     "output_type": "execute_result"
    }
   ],
   "source": [
    "y_train.shape"
   ]
  },
  {
   "cell_type": "code",
   "execution_count": 20,
   "id": "9c88a60c",
   "metadata": {},
   "outputs": [
    {
     "data": {
      "text/plain": [
       "(18, 1)"
      ]
     },
     "execution_count": 20,
     "metadata": {},
     "output_type": "execute_result"
    }
   ],
   "source": [
    "y_test.shape"
   ]
  },
  {
   "cell_type": "code",
   "execution_count": 21,
   "id": "67f37a36",
   "metadata": {},
   "outputs": [],
   "source": [
    "from sklearn.linear_model import LinearRegression"
   ]
  },
  {
   "cell_type": "code",
   "execution_count": 22,
   "id": "5f60be9e",
   "metadata": {},
   "outputs": [],
   "source": [
    "reg=LinearRegression()"
   ]
  },
  {
   "cell_type": "code",
   "execution_count": 23,
   "id": "9d2208e4",
   "metadata": {},
   "outputs": [],
   "source": [
    "c=cropph_df.Crop.astype('category')\n",
    "targets = dict(enumerate(c.cat.categories))\n",
    "cropph_df['target']=c.cat.codes\n",
    "\n",
    "y=cropph_df.target\n",
    "X=cropph_df[['Crop','Ph']]\n"
   ]
  },
  {
   "cell_type": "code",
   "execution_count": 24,
   "id": "410ee80c",
   "metadata": {},
   "outputs": [],
   "source": [
    "from sklearn.model_selection import train_test_split\n",
    "X_train, X_test, y_train, y_test = train_test_split(X, y,random_state=1)"
   ]
  },
  {
   "cell_type": "code",
   "execution_count": null,
   "id": "319318d9",
   "metadata": {},
   "outputs": [],
   "source": []
  }
 ],
 "metadata": {
  "kernelspec": {
   "display_name": "Python 3 (ipykernel)",
   "language": "python",
   "name": "python3"
  },
  "language_info": {
   "codemirror_mode": {
    "name": "ipython",
    "version": 3
   },
   "file_extension": ".py",
   "mimetype": "text/x-python",
   "name": "python",
   "nbconvert_exporter": "python",
   "pygments_lexer": "ipython3",
   "version": "3.9.13"
  }
 },
 "nbformat": 4,
 "nbformat_minor": 5
}
